{
 "cells": [
  {
   "cell_type": "markdown",
   "id": "1b53fbbb",
   "metadata": {},
   "source": [
    "Finding Mean and Std"
   ]
  },
  {
   "cell_type": "code",
   "execution_count": 1,
   "id": "7ac29333",
   "metadata": {},
   "outputs": [],
   "source": [
    "import torch\n",
    "from torch import Tensor\n",
    "from torch.utils.data import Dataset, DataLoader, random_split\n",
    "from torchvision import transforms, datasets\n",
    "import matplotlib.pyplot as plt\n",
    "import numpy as np"
   ]
  },
  {
   "cell_type": "code",
   "execution_count": 2,
   "id": "76a13949",
   "metadata": {},
   "outputs": [],
   "source": [
    "tfms = {\n",
    "    'trn': transforms.Compose([\n",
    "        transforms.Grayscale(3),\n",
    "        transforms.Resize((32, 32)),\n",
    "        transforms.ToTensor(),\n",
    "        transforms.Normalize(mean=0.0175, std=0.01)\n",
    "    ]),\n",
    "    \n",
    "    'val': transforms.Compose([\n",
    "        transforms.Resize((32, 32)),\n",
    "        transforms.ToTensor(),\n",
    "    ]),\n",
    "}"
   ]
  },
  {
   "cell_type": "code",
   "execution_count": 3,
   "id": "a6fc2f06",
   "metadata": {},
   "outputs": [],
   "source": [
    "trn_dataset = datasets.ImageFolder(\n",
    "        root='/home/DB/chest_xray/train',\n",
    "        transform = tfms['val'])"
   ]
  },
  {
   "cell_type": "code",
   "execution_count": 4,
   "id": "c2145234",
   "metadata": {},
   "outputs": [],
   "source": [
    "total = np.array(trn_dataset[0][0])\n",
    "for i in range(1, len(trn_dataset)):\n",
    "    total+=np.array(trn_dataset[i][0])"
   ]
  },
  {
   "cell_type": "code",
   "execution_count": 10,
   "id": "3333cb2e",
   "metadata": {},
   "outputs": [],
   "source": [
    "tmp = total/len(trn_dataset)"
   ]
  },
  {
   "cell_type": "code",
   "execution_count": 11,
   "id": "1f8a0663",
   "metadata": {},
   "outputs": [
    {
     "data": {
      "text/plain": [
       "0.4823885"
      ]
     },
     "execution_count": 11,
     "metadata": {},
     "output_type": "execute_result"
    }
   ],
   "source": [
    "tmp.mean()"
   ]
  },
  {
   "cell_type": "code",
   "execution_count": 12,
   "id": "35868904",
   "metadata": {},
   "outputs": [
    {
     "data": {
      "text/plain": [
       "0.18086432"
      ]
     },
     "execution_count": 12,
     "metadata": {},
     "output_type": "execute_result"
    }
   ],
   "source": [
    "tmp.std()"
   ]
  },
  {
   "cell_type": "code",
   "execution_count": 8,
   "id": "a97365d7",
   "metadata": {},
   "outputs": [],
   "source": [
    "torch.cuda.empty_cache()"
   ]
  },
  {
   "cell_type": "markdown",
   "id": "b591684e",
   "metadata": {},
   "source": [
    "Augmentation"
   ]
  },
  {
   "cell_type": "code",
   "execution_count": null,
   "id": "802646b1",
   "metadata": {},
   "outputs": [],
   "source": [
    "import torch\n",
    "from torch.utils.data import Dataset, DataLoader, random_split\n",
    "from torchvision import transforms, datasets\n",
    "import random\n",
    "import cv2\n",
    "import numpy as np"
   ]
  },
  {
   "cell_type": "code",
   "execution_count": null,
   "id": "d9945621",
   "metadata": {},
   "outputs": [],
   "source": [
    "trn_dataset = datasets.ImageFolder(\n",
    "        root='/home/DB/chest_xray/train')"
   ]
  },
  {
   "cell_type": "code",
   "execution_count": null,
   "id": "ad38331f",
   "metadata": {},
   "outputs": [],
   "source": [
    "def resize(img):\n",
    "    return transforms.Resize((32, 32))(img)\n",
    "\n",
    "def shear(img):\n",
    "    return transforms.RandomAffine(0, shear=16)(img)\n",
    "\n",
    "def rotate(img):\n",
    "    return transforms.RandomRotation(45)(img)\n",
    "\n",
    "def hs(img):\n",
    "    return transforms.RandomAffine(0, translate=(0.15, 0))(img)\n",
    "\n",
    "def vs(img):\n",
    "    return transforms.RandomAffine(0, translate=(0, 0.2))(img)\n",
    "\n",
    "def rc(img):\n",
    "    w, h, _ = np.array(img).shape\n",
    "    return transforms.RandomCrop((32, 32), padding=(8, 8))(img)"
   ]
  },
  {
   "cell_type": "code",
   "execution_count": null,
   "id": "74abbe5d",
   "metadata": {},
   "outputs": [],
   "source": [
    "sample = [0, 1, 2, 3, 4]\n",
    "norm_cnt = 0\n",
    "penu_cnt = 0\n",
    "\n",
    "for index, (img, label) in enumerate(trn_dataset):\n",
    "    img = resize(img)\n",
    "    if label==0:\n",
    "        if norm_cnt < 150:\n",
    "            cv2.imwrite(\"/home/LNE/Chest/val/images/NORMAL/NORMAL\"+str(index)+\".png\", np.array(img))\n",
    "            norm_cnt += 1\n",
    "        else:\n",
    "            cv2.imwrite(\"/home/LNE/Chest/train_augmented/images/NORMAL/NORMAL\"+str(index)+\".png\", np.array(img))\n",
    "            idx = random.sample(sample, 2)\n",
    "            if 0 in idx:\n",
    "                new_img = shear(img)\n",
    "                cv2.imwrite(\"/home/LNE/Chest/train_augmented/images/NORMAL/NORMAL\"+str(index)+\"-0.png\", np.array(new_img))\n",
    "            if 1 in idx:\n",
    "                new_img = rotate(img)\n",
    "                cv2.imwrite(\"/home/LNE/Chest/train_augmented/images/NORMAL/NORMAL\"+str(index)+\"-1.png\", np.array(new_img))\n",
    "            if 2 in idx:\n",
    "                new_img = hs(img)\n",
    "                cv2.imwrite(\"/home/LNE/Chest/train_augmented/images/NORMAL/NORMAL\"+str(index)+\"-2.png\", np.array(new_img))\n",
    "            if 3 in idx:\n",
    "                new_img = vs(img)\n",
    "                cv2.imwrite(\"/home/LNE/Chest/train_augmented/images/NORMAL/NORMAL\"+str(index)+\"-3.png\", np.array(new_img))\n",
    "            if 4 in idx:\n",
    "                new_img = rc(img)\n",
    "                cv2.imwrite(\"/home/LNE/Chest/train_augmented/images/NORMAL/NORMAL\"+str(index)+\"-4.png\", np.array(new_img))\n",
    "    else:\n",
    "        if penu_cnt < 250:\n",
    "            cv2.imwrite(\"/home/LNE/Chest/val/images/PNEUMONIA/PNEUMONIA\"+str(index)+\".png\", np.array(img))\n",
    "            penu_cnt += 1\n",
    "        else:\n",
    "            cv2.imwrite(\"/home/LNE/Chest/train_augmented/images/PNEUMONIA/PNEUMONIA\"+str(index)+\".png\", np.array(img)) "
   ]
  },
  {
   "cell_type": "markdown",
   "id": "94751a65",
   "metadata": {},
   "source": [
    "Dataset"
   ]
  },
  {
   "cell_type": "code",
   "execution_count": null,
   "id": "9726ec6e",
   "metadata": {},
   "outputs": [],
   "source": [
    "img = trn_dataset[0][0]"
   ]
  },
  {
   "cell_type": "code",
   "execution_count": null,
   "id": "5c52bef4",
   "metadata": {},
   "outputs": [],
   "source": [
    "plt.imshow(img)"
   ]
  },
  {
   "cell_type": "code",
   "execution_count": null,
   "id": "08a27dae",
   "metadata": {},
   "outputs": [],
   "source": [
    "img = transforms.Resize((32, 32))(img)"
   ]
  },
  {
   "cell_type": "code",
   "execution_count": null,
   "id": "e387555c",
   "metadata": {},
   "outputs": [],
   "source": [
    "img = transforms.RandomAffine(0, shear=16)(img)"
   ]
  },
  {
   "cell_type": "code",
   "execution_count": null,
   "id": "c237e88f",
   "metadata": {},
   "outputs": [],
   "source": [
    "plt.imshow(img)"
   ]
  },
  {
   "cell_type": "code",
   "execution_count": null,
   "id": "3a2e7dd6",
   "metadata": {},
   "outputs": [],
   "source": []
  }
 ],
 "metadata": {
  "kernelspec": {
   "display_name": "Python 3 (ipykernel)",
   "language": "python",
   "name": "python3"
  },
  "language_info": {
   "codemirror_mode": {
    "name": "ipython",
    "version": 3
   },
   "file_extension": ".py",
   "mimetype": "text/x-python",
   "name": "python",
   "nbconvert_exporter": "python",
   "pygments_lexer": "ipython3",
   "version": "3.8.12"
  }
 },
 "nbformat": 4,
 "nbformat_minor": 5
}
